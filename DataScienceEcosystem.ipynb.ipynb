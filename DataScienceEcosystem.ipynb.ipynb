{
 "cells": [
  {
   "cell_type": "markdown",
   "id": "197c0bd0",
   "metadata": {},
   "source": [
    "# Data Science Tools and Ecosystem"
   ]
  },
  {
   "cell_type": "markdown",
   "id": "1ade9113",
   "metadata": {},
   "source": [
    "### In this notebook, Data Science Tools and Ecosystem are summarized."
   ]
  },
  {
   "cell_type": "markdown",
   "id": "ebfbc314",
   "metadata": {},
   "source": [
    "Some of the popular languages that Data Scientists use are:\n",
    "\n",
    "$Python$\n",
    "\n",
    "$R$\n",
    "\n",
    "$SQL$\n",
    "\n",
    "Other powerfull languajes, but less prefered are:\n",
    "\n",
    "**Javascript**\n",
    "\n",
    "**Scala**\n",
    "\n",
    "**Julia**"
   ]
  },
  {
   "cell_type": "markdown",
   "id": "bc5e13d0",
   "metadata": {},
   "source": [
    "Some of the commonly used libraries used by Data Scientists include:\n",
    "\n",
    "$Tensorflow$\n",
    "\n",
    "$Pandas$\n",
    "\n",
    "$PyTorch$\n"
   ]
  },
  {
   "cell_type": "markdown",
   "id": "9c59d1d1",
   "metadata": {},
   "source": [
    "Some Data Science Tools:\n",
    "\n",
    "$Jupyter$\n",
    "\n",
    "$Hadoop$\n",
    "\n",
    "$Spark$\n",
    "\n",
    "$Tensorflow$"
   ]
  },
  {
   "cell_type": "markdown",
   "id": "dc8b84eb",
   "metadata": {},
   "source": [
    "### Below are a few examples of evaluating arithmetic expressions in Python."
   ]
  },
  {
   "cell_type": "markdown",
   "id": "d3453fb4",
   "metadata": {},
   "source": [
    "This are simple arithmetic expression to mutiply, divide, integers and subtract:\n",
    "\n",
    "**5*4 20**\n",
    "\n",
    "**16/8 2**\n",
    "\n",
    "**1998+25 2023**\n",
    "\n",
    "**20-13 7**"
   ]
  },
  {
   "cell_type": "markdown",
   "id": "8193ee9d",
   "metadata": {},
   "source": [
    "Objectives: \n",
    "\n",
    "\"unordered list\"\n",
    "\n",
    "\"List popular languages for Data Science\""
   ]
  },
  {
   "cell_type": "markdown",
   "id": "e5563950",
   "metadata": {},
   "source": [
    "```Author``` Fernando Daniel Guerrero\n"
   ]
  }
 ],
 "metadata": {
  "kernelspec": {
   "display_name": "Python 3 (ipykernel)",
   "language": "python",
   "name": "python3"
  },
  "language_info": {
   "codemirror_mode": {
    "name": "ipython",
    "version": 3
   },
   "file_extension": ".py",
   "mimetype": "text/x-python",
   "name": "python",
   "nbconvert_exporter": "python",
   "pygments_lexer": "ipython3",
   "version": "3.11.4"
  }
 },
 "nbformat": 4,
 "nbformat_minor": 5
}
